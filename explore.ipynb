{
 "cells": [
  {
   "cell_type": "code",
   "execution_count": 3,
   "id": "4bd6b15a-4b61-4da3-83e7-7c5b01b5fdc4",
   "metadata": {},
   "outputs": [],
   "source": [
    "from google.cloud import bigquery\n",
    "bqclient = bigquery.Client()"
   ]
  },
  {
   "cell_type": "code",
   "execution_count": 18,
   "id": "e8b2cb28-c0cc-4a02-9171-84789e4d5c58",
   "metadata": {},
   "outputs": [
    {
     "data": {
      "text/plain": [
       "Counter({'Energy': 1,\n",
       "         'Materials': 8,\n",
       "         'Capital Goods': 18,\n",
       "         'Transportation': 1,\n",
       "         'Retailing': 4,\n",
       "         'Consumer Services': 2,\n",
       "         'Automobiles & Components': 6,\n",
       "         'Consumer Durables & Apparel': 4,\n",
       "         'Food Beverage & Tobacco': 2,\n",
       "         'Food & Staples Retailing': 3,\n",
       "         'Household & Personal Products': 4,\n",
       "         'Pharmaceuticals Biotechnology': 7,\n",
       "         'Health Care Equipment & Servic': 6,\n",
       "         'Banks': 5,\n",
       "         'Insurance': 3,\n",
       "         'Diversified Financials': 6,\n",
       "         'Software & Services': 6,\n",
       "         'Semiconductors & Semiconductor': 2,\n",
       "         'Technology Hardware & Equipmen': 4,\n",
       "         'Media & Entertainment': 1,\n",
       "         'Telecommunication Services': 4,\n",
       "         'Utilities': 2,\n",
       "         'Real Estate': 1})"
      ]
     },
     "execution_count": 18,
     "metadata": {},
     "output_type": "execute_result"
    }
   ],
   "source": [
    "import collections\n",
    "project_path = \"tech-22-01-b6224b53.tech_talent_2022\"\n",
    "covid = \"covid_data\"\n",
    "quarterly = \"quarterly_financials_factset\"\n",
    "sector = \"sector_data\"\n",
    "esg = \"ESG_data\"\n",
    "equity = \"equity_data_bloomberg\"\n",
    "\n",
    "query = f\"\"\"\n",
    "SELECT *\n",
    "FROM {project_path}.{sector}\n",
    "\"\"\"\n",
    "df = (bqclient.query(query)\n",
    "    .result()\n",
    "    .to_dataframe())\n",
    "collections.Counter(df[\"Industry_Group\"])"
   ]
  },
  {
   "cell_type": "code",
   "execution_count": null,
   "id": "f5cbed8f-933a-4207-9636-ab14b8913325",
   "metadata": {},
   "outputs": [],
   "source": []
  }
 ],
 "metadata": {
  "environment": {
   "kernel": "python3",
   "name": "tf2-gpu.2-6.m89",
   "type": "gcloud",
   "uri": "gcr.io/deeplearning-platform-release/tf2-gpu.2-6:m89"
  },
  "kernelspec": {
   "display_name": "Python 3",
   "language": "python",
   "name": "python3"
  },
  "language_info": {
   "codemirror_mode": {
    "name": "ipython",
    "version": 3
   },
   "file_extension": ".py",
   "mimetype": "text/x-python",
   "name": "python",
   "nbconvert_exporter": "python",
   "pygments_lexer": "ipython3",
   "version": "3.7.12"
  }
 },
 "nbformat": 4,
 "nbformat_minor": 5
}
